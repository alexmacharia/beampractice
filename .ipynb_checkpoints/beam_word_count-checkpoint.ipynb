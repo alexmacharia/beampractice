{
 "cells": [
  {
   "cell_type": "code",
   "execution_count": 1,
   "metadata": {},
   "outputs": [],
   "source": [
    "import re\n",
    "import apache_beam as beam\n",
    "from apache_beam.io import ReadFromText\n",
    "from apache_beam.io import WriteToText"
   ]
  },
  {
   "cell_type": "code",
   "execution_count": 6,
   "metadata": {},
   "outputs": [
    {
     "name": "stderr",
     "output_type": "stream",
     "text": [
      "WARNING:apache_beam.io.filebasedsink:Deleting 1 existing files in target path matching: -*-of-%(num_shards)05d\n"
     ]
    }
   ],
   "source": [
    "with beam.Pipeline() as p:\n",
    "    lines = p | ReadFromText('data/kinglear.txt')\n",
    "    \n",
    "    counts = (\n",
    "        lines\n",
    "        | 'Split' >> (beam.FlatMap(lambda x: re.findall(r'[A-Za-z\\']+',x)).with_output_types('unicode'))\n",
    "        | 'PairwithOne' >> beam.Map(lambda x: (x, 1))\n",
    "        | 'GroupandSum' >> beam.CombinePerKey(sum)\n",
    "    )\n",
    "    \n",
    "    def format_result(word_count):\n",
    "        (word, count) = word_count\n",
    "        return '%s: %s' % (word, count)\n",
    "    \n",
    "    output = counts | 'Format' >> beam.Map(format_result)\n",
    "    \n",
    "    output | WriteToText('data/output_word_count')\n",
    "    \n",
    "    p.run()"
   ]
  },
  {
   "cell_type": "code",
   "execution_count": null,
   "metadata": {},
   "outputs": [],
   "source": []
  }
 ],
 "metadata": {
  "kernelspec": {
   "display_name": "Python 3",
   "language": "python",
   "name": "python3"
  },
  "language_info": {
   "codemirror_mode": {
    "name": "ipython",
    "version": 3
   },
   "file_extension": ".py",
   "mimetype": "text/x-python",
   "name": "python",
   "nbconvert_exporter": "python",
   "pygments_lexer": "ipython3",
   "version": "3.7.6"
  }
 },
 "nbformat": 4,
 "nbformat_minor": 4
}
