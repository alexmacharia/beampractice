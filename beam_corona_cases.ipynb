{
 "cells": [
  {
   "cell_type": "code",
   "execution_count": 1,
   "metadata": {},
   "outputs": [],
   "source": [
    "import apache_beam as beam"
   ]
  },
  {
   "cell_type": "code",
   "execution_count": 2,
   "metadata": {},
   "outputs": [],
   "source": [
    "p1 = beam.Pipeline()\n"
   ]
  },
  {
   "cell_type": "code",
   "execution_count": 3,
   "metadata": {},
   "outputs": [
    {
     "data": {
      "application/javascript": [
       "\n",
       "        if (typeof window.interactive_beam_jquery == 'undefined') {\n",
       "          var jqueryScript = document.createElement('script');\n",
       "          jqueryScript.src = 'https://code.jquery.com/jquery-3.4.1.slim.min.js';\n",
       "          jqueryScript.type = 'text/javascript';\n",
       "          jqueryScript.onload = function() {\n",
       "            var datatableScript = document.createElement('script');\n",
       "            datatableScript.src = 'https://cdn.datatables.net/1.10.20/js/jquery.dataTables.min.js';\n",
       "            datatableScript.type = 'text/javascript';\n",
       "            datatableScript.onload = function() {\n",
       "              window.interactive_beam_jquery = jQuery.noConflict(true);\n",
       "              window.interactive_beam_jquery(document).ready(function($){\n",
       "                \n",
       "              });\n",
       "            }\n",
       "            document.head.appendChild(datatableScript);\n",
       "          };\n",
       "          document.head.appendChild(jqueryScript);\n",
       "        } else {\n",
       "          window.interactive_beam_jquery(document).ready(function($){\n",
       "            \n",
       "          });\n",
       "        }"
      ]
     },
     "metadata": {},
     "output_type": "display_data"
    },
    {
     "data": {
      "application/javascript": [
       "\n",
       "        var import_html = () => {\n",
       "          ['https://raw.githubusercontent.com/PAIR-code/facets/1.0.0/facets-dist/facets-jupyter.html'].forEach(href => {\n",
       "            var link = document.createElement('link');\n",
       "            link.rel = 'import'\n",
       "            link.href = href;\n",
       "            document.head.appendChild(link);\n",
       "          });\n",
       "        }\n",
       "        if ('import' in document.createElement('link')) {\n",
       "          import_html();\n",
       "        } else {\n",
       "          var webcomponentScript = document.createElement('script');\n",
       "          webcomponentScript.src = 'https://cdnjs.cloudflare.com/ajax/libs/webcomponentsjs/1.3.3/webcomponents-lite.js';\n",
       "          webcomponentScript.type = 'text/javascript';\n",
       "          webcomponentScript.onload = function(){\n",
       "            import_html();\n",
       "          };\n",
       "          document.head.appendChild(webcomponentScript);\n",
       "        }"
      ]
     },
     "metadata": {},
     "output_type": "display_data"
    }
   ],
   "source": [
    "cases = (\n",
    "    p1\n",
    "    | 'Reading cases data' >> beam.io.ReadFromText('data/datasets_527325_1205308_Case.csv')\n",
    "    | 'Splitting records' >> beam.Map(lambda x: x.split(','))\n",
    "    | 'Filtering Seoul' >> beam.Filter(lambda x: x[1]=='Seoul')\n",
    "    | 'Creating Key value pairs' >> beam.Map(lambda x: (x[2],1))\n",
    "    | 'Grouping & counting Keys' >> beam.CombinePerKey(sum)\n",
    "    | 'Writing to file' >> beam.io.WriteToText('data/output_new_final')\n",
    ")"
   ]
  },
  {
   "cell_type": "code",
   "execution_count": 4,
   "metadata": {},
   "outputs": [
    {
     "name": "stderr",
     "output_type": "stream",
     "text": [
      "WARNING:apache_beam.io.filebasedsink:Deleting 1 existing files in target path matching: -*-of-%(num_shards)05d\n"
     ]
    },
    {
     "data": {
      "text/plain": [
       "<apache_beam.runners.portability.fn_api_runner.fn_runner.RunnerResult at 0x7fc8c15ff3d0>"
      ]
     },
     "execution_count": 4,
     "metadata": {},
     "output_type": "execute_result"
    }
   ],
   "source": [
    "p1.run()"
   ]
  },
  {
   "cell_type": "code",
   "execution_count": 5,
   "metadata": {},
   "outputs": [
    {
     "name": "stderr",
     "output_type": "stream",
     "text": [
      "WARNING:apache_beam.io.filebasedsink:Deleting 1 existing files in target path matching: -*-of-%(num_shards)05d\n"
     ]
    }
   ],
   "source": [
    "with beam.Pipeline() as p:\n",
    "    input_collection = (\n",
    "        p\n",
    "        | 'Reading cases data' >> beam.io.ReadFromText('data/datasets_527325_1205308_Case.csv')\n",
    "        | 'Split rows' >> beam.Map(lambda x: x.split(','))\n",
    "    )\n",
    "    \n",
    "    seoul_cases = (\n",
    "        input_collection\n",
    "        | 'Filtering Seoul' >> beam.Filter(lambda x: x[1]=='Seoul')\n",
    "        | 'Creating key value pairs seoul' >> beam.Map(lambda x: ('Seoul ' + x[2], 1))\n",
    "        | 'Grouping and counting keys seoul' >> beam.CombinePerKey(sum)\n",
    "    )\n",
    "    \n",
    "    busan_cases = (\n",
    "        input_collection\n",
    "        | 'Filtering Busan' >> beam.Filter(lambda x: x[1]=='Busan')\n",
    "        | 'Creating key value pairs busan' >> beam.Map(lambda x: ('Busan ' + x[2], 1))\n",
    "        | 'Grouping and counting keys busan' >> beam.CombinePerKey(sum)\n",
    "    )\n",
    "    \n",
    "    output = (\n",
    "        (seoul_cases, busan_cases)\n",
    "        | 'Combining both outputs' >> beam.Flatten()\n",
    "        | 'Writing output' >> beam.io.WriteToText('data/output_combined_final')\n",
    "    )"
   ]
  },
  {
   "cell_type": "code",
   "execution_count": 6,
   "metadata": {},
   "outputs": [],
   "source": [
    "class SplitRow(beam.DoFn):\n",
    "    def process(self, element):\n",
    "        return [element.split(',')]\n",
    "    \n",
    "p = beam.Pipeline()\n",
    "\n",
    "all_cases = (\n",
    "    p\n",
    "    | beam.io.ReadFromText('data/datasets_527325_1205308_Case.csv')\n",
    "    | beam.ParDo(SplitRow())\n",
    "    | beam.io.WriteToText('data/output_all_final')\n",
    "\n",
    "\n",
    ")"
   ]
  },
  {
   "cell_type": "code",
   "execution_count": 7,
   "metadata": {},
   "outputs": [
    {
     "name": "stderr",
     "output_type": "stream",
     "text": [
      "WARNING:apache_beam.io.filebasedsink:Deleting 1 existing files in target path matching: -*-of-%(num_shards)05d\n"
     ]
    },
    {
     "data": {
      "text/plain": [
       "<apache_beam.runners.portability.fn_api_runner.fn_runner.RunnerResult at 0x7fc8c15d4ad0>"
      ]
     },
     "execution_count": 7,
     "metadata": {},
     "output_type": "execute_result"
    }
   ],
   "source": [
    "p.run()"
   ]
  },
  {
   "cell_type": "code",
   "execution_count": null,
   "metadata": {},
   "outputs": [],
   "source": [
    "`                                                                                                                                BBBBBBBBB88888888888888888 7-YT-/"
   ]
  }
 ],
 "metadata": {
  "kernelspec": {
   "display_name": "Python 3",
   "language": "python",
   "name": "python3"
  },
  "language_info": {
   "codemirror_mode": {
    "name": "ipython",
    "version": 3
   },
   "file_extension": ".py",
   "mimetype": "text/x-python",
   "name": "python",
   "nbconvert_exporter": "python",
   "pygments_lexer": "ipython3",
   "version": "3.7.6"
  }
 },
 "nbformat": 4,
 "nbformat_minor": 4
}
