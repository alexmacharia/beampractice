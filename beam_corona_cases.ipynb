{
 "cells": [
  {
   "cell_type": "code",
   "execution_count": 1,
   "metadata": {},
   "outputs": [],
   "source": [
    "import apache_beam as beam"
   ]
  },
  {
   "cell_type": "code",
   "execution_count": 9,
   "metadata": {},
   "outputs": [],
   "source": [
    "p1 = beam.Pipeline()\n"
   ]
  },
  {
   "cell_type": "code",
   "execution_count": 10,
   "metadata": {},
   "outputs": [],
   "source": [
    "cases = (\n",
    "    p1\n",
    "    | 'Reading cases data' >> beam.io.ReadFromText('data/datasets_527325_1205308_Case.csv')\n",
    "    | 'Splitting records' >> beam.Map(lambda x: x.split(','))\n",
    "    | 'Filtering Seoul' >> beam.Filter(lambda x: x[1]=='Seoul')\n",
    "    | 'Creating Key value pairs' >> beam.Map(lambda x: (x[2],1))\n",
    "    | 'Grouping & counting Keys' >> beam.CombinePerKey(sum)\n",
    "    | 'Writing to file' >> beam.io.WriteToText('data/output_new_final')\n",
    ")"
   ]
  },
  {
   "cell_type": "code",
   "execution_count": 11,
   "metadata": {},
   "outputs": [
    {
     "name": "stderr",
     "output_type": "stream",
     "text": [
      "WARNING:apache_beam.io.filebasedsink:Deleting 1 existing files in target path matching: -*-of-%(num_shards)05d\n"
     ]
    },
    {
     "data": {
      "text/plain": [
       "<apache_beam.runners.portability.fn_api_runner.fn_runner.RunnerResult at 0x7f43988dc610>"
      ]
     },
     "execution_count": 11,
     "metadata": {},
     "output_type": "execute_result"
    }
   ],
   "source": [
    "p1.run()"
   ]
  },
  {
   "cell_type": "code",
   "execution_count": 13,
   "metadata": {},
   "outputs": [],
   "source": [
    "with beam.Pipeline() as p:\n",
    "    input_collection = (\n",
    "        p\n",
    "        | 'Reading cases data' >> beam.io.ReadFromText('data/datasets_527325_1205308_Case.csv')\n",
    "        | 'Split rows' >> beam.Map(lambda x: x.split(','))\n",
    "    )\n",
    "    \n",
    "    seoul_cases = (\n",
    "        input_collection\n",
    "        | 'Filtering Seoul' >> beam.Filter(lambda x: x[1]=='Seoul')\n",
    "        | 'Creating key value pairs seoul' >> beam.Map(lambda x: ('Seoul ' + x[2], 1))\n",
    "        | 'Grouping and counting keys seoul' >> beam.CombinePerKey(sum)\n",
    "    )\n",
    "    \n",
    "    busan_cases = (\n",
    "        input_collection\n",
    "        | 'Filtering Busan' >> beam.Filter(lambda x: x[1]=='Busan')\n",
    "        | 'Creating key value pairs busan' >> beam.Map(lambda x: ('Busan ' + x[2], 1))\n",
    "        | 'Grouping and counting keys busan' >> beam.CombinePerKey(sum)\n",
    "    )\n",
    "    \n",
    "    output = (\n",
    "        (seoul_cases, busan_cases)\n",
    "        | 'Combining both outputs' >> beam.Flatten()\n",
    "        | 'Writing output' >> beam.io.WriteToText('data/output_combined_final')\n",
    "    )"
   ]
  },
  {
   "cell_type": "code",
   "execution_count": 14,
   "metadata": {},
   "outputs": [],
   "source": [
    "class SplitRow(beam.DoFn):\n",
    "    def process(self, element):\n",
    "        return [element.split(',')]\n",
    "    \n",
    "p = beam.Pipeline()\n",
    "\n",
    "all_cases = (\n",
    "    p\n",
    "    | beam.io.ReadFromText('data/datasets_527325_1205308_Case.csv')\n",
    "    | beam.ParDo(SplitRow())\n",
    "    | beam.io.WriteToText('data/output_all_final')\n",
    "\n",
    "\n",
    ")"
   ]
  },
  {
   "cell_type": "code",
   "execution_count": 15,
   "metadata": {},
   "outputs": [
    {
     "data": {
      "text/plain": [
       "<apache_beam.runners.portability.fn_api_runner.fn_runner.RunnerResult at 0x7f438d9fff10>"
      ]
     },
     "execution_count": 15,
     "metadata": {},
     "output_type": "execute_result"
    }
   ],
   "source": [
    "p.run()"
   ]
  },
  {
   "cell_type": "code",
   "execution_count": null,
   "metadata": {},
   "outputs": [],
   "source": []
  }
 ],
 "metadata": {
  "kernelspec": {
   "display_name": "Python 3",
   "language": "python",
   "name": "python3"
  },
  "language_info": {
   "codemirror_mode": {
    "name": "ipython",
    "version": 3
   },
   "file_extension": ".py",
   "mimetype": "text/x-python",
   "name": "python",
   "nbconvert_exporter": "python",
   "pygments_lexer": "ipython3",
   "version": "3.7.6"
  }
 },
 "nbformat": 4,
 "nbformat_minor": 4
}
